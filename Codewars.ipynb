{
 "cells": [
  {
   "cell_type": "markdown",
   "metadata": {},
   "source": [
    "# Codewars"
   ]
  },
  {
   "cell_type": "markdown",
   "metadata": {},
   "source": [
    "### Learn Array Manipulation, Breadth First search, React.js"
   ]
  },
  {
   "cell_type": "markdown",
   "metadata": {},
   "source": [
    "## 8 Kyu"
   ]
  },
  {
   "cell_type": "code",
   "execution_count": 8,
   "metadata": {},
   "outputs": [
    {
     "name": "stdout",
     "output_type": "stream",
     "text": [
      "yako\n",
      "yako\n"
     ]
    }
   ],
   "source": [
    "## Reverse the string passed into it\n",
    "# 'world'  =>  'dlrow'\n",
    "\n",
    "def solution(string):\n",
    "    return string[::-1]\n",
    "\n",
    "print(solution(\"okay\"))\n",
    "\n",
    "def solution2(string):\n",
    "    string = list(string)\n",
    "    string.reverse()\n",
    "    return ''.join(string)\n",
    "\n",
    "print(solution2(\"okay\"))"
   ]
  },
  {
   "cell_type": "code",
   "execution_count": null,
   "id": "7c793cd7",
   "metadata": {},
   "outputs": [
    {
     "name": "stdout",
     "output_type": "stream",
     "text": [
      "24567\n"
     ]
    }
   ],
   "source": [
    "## Reverse a given integer number\n",
    "\n",
    "n = 76542\n",
    "reverse_number = 0\n",
    "while n > 0:\n",
    "    r = n % 10 \n",
    "    ## %, Modulo operator gives the remainder of the operator Eg. 101 % 2 gives a remainder of 1\n",
    "    reverse_number = (reverse_number * 10) + r\n",
    "    n = n //10\n",
    "print(reverse_number)\n"
   ]
  },
  {
   "cell_type": "code",
   "execution_count": 9,
   "metadata": {},
   "outputs": [
    {
     "data": {
      "text/plain": [
       "12"
      ]
     },
     "execution_count": 9,
     "metadata": {},
     "output_type": "execute_result"
    }
   ],
   "source": [
    "## Return double the integer\n",
    "def doubleInteger(i):\n",
    "    return i * 2\n",
    "\n",
    "doubleInteger(6)"
   ]
  },
  {
   "cell_type": "code",
   "execution_count": 13,
   "metadata": {},
   "outputs": [
    {
     "name": "stdout",
     "output_type": "stream",
     "text": [
      "Hello, Mayhem how are you doing today?\n"
     ]
    }
   ],
   "source": [
    "def greet(name):\n",
    "    print(\"Hello,\",name,\"how are you doing today?\")\n",
    "    #Good Luck (like you need it)\n",
    "    pass\n",
    "## For a return statement\n",
    "greet(\"Mayhem\")\n",
    "\n",
    "def greet(name):\n",
    "    return ('Hello, '+ name + ' how are you doing today?')\n",
    "    #Good Luck (like you need it)\n",
    "    pass\n",
    "\n",
    "greet(\"Mayhem\")"
   ]
  },
  {
   "cell_type": "code",
   "execution_count": 10,
   "metadata": {},
   "outputs": [
    {
     "data": {
      "text/plain": [
       "22791"
      ]
     },
     "execution_count": 10,
     "metadata": {},
     "output_type": "execute_result"
    }
   ],
   "source": [
    "## Create a summation formula\n",
    "def summation(num):\n",
    "    pass # Code here\n",
    "    count = 0\n",
    "    for i in range(1,num+1):\n",
    "        count += i\n",
    "    return count\n",
    "\n",
    "summation(213)"
   ]
  },
  {
   "cell_type": "code",
   "execution_count": 2,
   "metadata": {},
   "outputs": [
    {
     "data": {
      "text/plain": [
       "'Normal'"
      ]
     },
     "execution_count": 2,
     "metadata": {},
     "output_type": "execute_result"
    }
   ],
   "source": [
    "## Create a function that calculates BMI\n",
    "\n",
    "def bmi(weight, height):\n",
    "    #your code here\n",
    "    bmi = weight/height**2\n",
    "    if bmi > 30:\n",
    "        return \"Obese\"\n",
    "    elif bmi <= 18.5:\n",
    "        return \"Underweight\"\n",
    "    elif bmi <= 25:\n",
    "        return \"Normal\"\n",
    "    elif bmi <= 30:\n",
    "        return \"Overweight\"     \n",
    "\n",
    "bmi(63,1.7)   "
   ]
  },
  {
   "cell_type": "code",
   "execution_count": 75,
   "metadata": {},
   "outputs": [
    {
     "data": {
      "text/plain": [
       "'found the needle at position 5'"
      ]
     },
     "execution_count": 75,
     "metadata": {},
     "output_type": "execute_result"
    }
   ],
   "source": [
    "## Write a function that takes an array and find's a str called needle and then concatenate it\n",
    "## with its index position no.\n",
    "\n",
    "def find_needle(haystack):\n",
    "    # your code here\n",
    "    pos = 0\n",
    "    for i in haystack:\n",
    "        if i != \"needle\":\n",
    "            pos += 1\n",
    "        else:\n",
    "            return ('found the needle at position ' + str(pos))\n",
    "\n",
    "haystack = [\"hay\", \"junk\", \"hay\", \"hay\", \"moreJunk\", \"needle\", \"randomJunk\"]\n",
    "find_needle(haystack)"
   ]
  },
  {
   "cell_type": "code",
   "execution_count": 19,
   "metadata": {},
   "outputs": [
    {
     "name": "stdout",
     "output_type": "stream",
     "text": [
      "S.H\n",
      "['Sam', 'Harris']\n",
      "C.N\n"
     ]
    }
   ],
   "source": [
    "def abbrev_name(name):\n",
    "    initials = []\n",
    "    ## Create a list that will input the initials\n",
    "    name = name.title()\n",
    "    ## Capitalise the first letter of each word\n",
    "    name_list = name.split()\n",
    "    ## Splits the str(name) into a list format with each word being an element of its own\n",
    "    for i in name_list:\n",
    "        initials.append(i[0])\n",
    "    return '.'.join(initials)\n",
    "\n",
    "print(abbrev_name('Sam Harris'))\n",
    "\n",
    "name = 'sam harris'\n",
    "name = name.title()\n",
    "name_list = name.split()\n",
    "print(name_list)\n",
    "\n",
    "# Or\n",
    "\n",
    "def abbrev_name2(name):\n",
    "    first, last = name.upper().split()\n",
    "    return first[0] + '.' + last[0]\n",
    "\n",
    "print(abbrev_name2('chicken nuggets'))"
   ]
  },
  {
   "cell_type": "code",
   "execution_count": 16,
   "metadata": {},
   "outputs": [
    {
     "name": "stdout",
     "output_type": "stream",
     "text": [
      "['Sam', 'Harris']\n"
     ]
    }
   ],
   "source": []
  },
  {
   "cell_type": "markdown",
   "metadata": {},
   "source": [
    "## 7 Kyu"
   ]
  },
  {
   "cell_type": "code",
   "execution_count": 20,
   "metadata": {},
   "outputs": [
    {
     "data": {
      "text/plain": [
       "811181"
      ]
     },
     "execution_count": 20,
     "metadata": {},
     "output_type": "execute_result"
    }
   ],
   "source": [
    "## Square every digit in num and then concatenate them\n",
    "# Input an integer and Output an Integer\n",
    "def square_digits(num):\n",
    "    Squared = \"\"\n",
    "    ## Str format for the concatenation\n",
    "    C = 0\n",
    "    ## Placeholder to put the squared digits\n",
    "    for i in str(num):\n",
    "        C += int(i)\n",
    "        C = C**2\n",
    "        C = str(C)\n",
    "        Squared += C\n",
    "        C = int(0)\n",
    "    return int(Squared)\n",
    "    pass\n",
    "\n",
    "square_digits(9119)"
   ]
  },
  {
   "cell_type": "code",
   "execution_count": 64,
   "metadata": {},
   "outputs": [
    {
     "data": {
      "text/plain": [
       "8765544221"
      ]
     },
     "execution_count": 64,
     "metadata": {},
     "output_type": "execute_result"
    }
   ],
   "source": [
    "## Make a function that can take any non-negative integer as an argument and return it with its digits in descending order. \n",
    "# Essentially, rearrange the digits to create the highest possible number.\n",
    "\n",
    "def descending_order(num):\n",
    "    # Bust a move right here\n",
    "    num = \"\".join(sorted(str(num), reverse = True))\n",
    "    return int(num)\n",
    "\n",
    "descending_order('4 2 1 4 5 2 7 8 6 5')\n"
   ]
  },
  {
   "cell_type": "code",
   "execution_count": 62,
   "metadata": {},
   "outputs": [
    {
     "name": "stdout",
     "output_type": "stream",
     "text": [
      "It's an string\n",
      "It's an string\n",
      "It's an string\n",
      "It's an string\n",
      "It's an string\n",
      "It's an string\n",
      "It's an string\n",
      "It's an string\n",
      "It's an string\n",
      "It's an string\n",
      "It's an string\n",
      "It's an string\n"
     ]
    }
   ],
   "source": [
    "## Create a function that is able to iterate through a list and tell you their types\n",
    "\n",
    "def checkType(a_list):\n",
    "    for element in a_list:\n",
    "        if isinstance(element, int):\n",
    "            print(\"It's an Integer\")\n",
    "        if isinstance(element, str):\n",
    "            print(\"It's an string\")\n",
    "        if isinstance(element, float):\n",
    "            print(\"It's an floating number\")"
   ]
  },
  {
   "cell_type": "code",
   "execution_count": 62,
   "metadata": {},
   "outputs": [
    {
     "data": {
      "text/plain": [
       "['Ryan', 'Mark']"
      ]
     },
     "execution_count": 62,
     "metadata": {},
     "output_type": "execute_result"
    }
   ],
   "source": [
    "## Make a program that filters a list of strings and returns a list with only names with 4 letters\n",
    "x = [\"Ryan\", \"Kieran\", \"Mark\"]\n",
    "\n",
    "def friend(x):\n",
    "    four = []\n",
    "    for i in x:\n",
    "        if len(i) == 4:\n",
    "            four += [i]\n",
    "    return four\n",
    "\n",
    "friend(x)\n"
   ]
  },
  {
   "cell_type": "code",
   "execution_count": 65,
   "metadata": {},
   "outputs": [
    {
     "name": "stdout",
     "output_type": "stream",
     "text": [
      "cd\n",
      "cd\n"
     ]
    }
   ],
   "source": [
    "## Get the Middle Character return the middle character of the word. \n",
    "# If the word's length is odd, return the middle character. \n",
    "# If the word's length is even, return the middle 2 characters.\n",
    "def get_middle(s):\n",
    "    #your code here\n",
    "    if len(s) % 2 == 0:\n",
    "        median = int(len(s)/2)\n",
    "        return s[median-1]+s[median]\n",
    "    elif len(s) % 2 != 0:\n",
    "        median = int(len(s)/2)\n",
    "        return s[median:median + 1]\n",
    "\n",
    "print(get_middle(\"abcdef\"))\n",
    "\n",
    "# Or\n",
    "\n",
    "def get_middle(s):\n",
    "    while len(s) > 2:\n",
    "        s = s[1:-1]\n",
    "    return s\n",
    "## As long as the length of X is more than 2, replace X with the second to second last item in the index till the\n",
    "## length of x =< 2\n",
    "## Eg. ABCDEFG become BCDEF then CDE then D\n",
    "print(get_middle(\"abcdef\"))\n",
    "\n"
   ]
  },
  {
   "cell_type": "markdown",
   "metadata": {},
   "source": [
    "## 6 Kyu"
   ]
  },
  {
   "cell_type": "code",
   "execution_count": null,
   "id": "44f5534c",
   "metadata": {},
   "outputs": [
    {
     "data": {
      "text/plain": [
       "2"
      ]
     },
     "metadata": {},
     "output_type": "display_data"
    }
   ],
   "source": [
    "## Count the number of Duplicates where it returns a distinct count of characters and digits that occur more than once\n",
    "def duplicate_count(text):\n",
    "    # Your code goes here\n",
    "    text = text.lower()\n",
    "    duplicates = {i: text.count(i) for i in text}\n",
    "    # \n",
    "    duplicates = sorted(duplicates.values())\n",
    "    counter = 0\n",
    "    for i in duplicates:\n",
    "        if i > 1:\n",
    "            counter += 1\n",
    "    return counter\n",
    "\n",
    "duplicate_count(\"indivisibilities\")"
   ]
  },
  {
   "cell_type": "code",
   "execution_count": null,
   "id": "d843d1c2",
   "metadata": {},
   "outputs": [
    {
     "name": "stdout",
     "output_type": "stream",
     "text": [
      "((()((()\n",
      "UUUDUUUD\n",
      "((()((()\n",
      "((()((()\n"
     ]
    }
   ],
   "source": [
    "## Duplicate Encode \n",
    "## Return the statement nothing initially joined together by \"(\" if lowercase letter is unique and \")\" if lowercase letter \n",
    "## is a duplicate \n",
    "\n",
    "def duplicate_encode(word):\n",
    "    #your code here\n",
    "    return \"\".join([\"(\" if word.lower().count(i)==1 else \")\" for i in word.lower()])\n",
    "\n",
    "def duplicate_encodex(word):\n",
    "    #your code here\n",
    "    return \"\".join([\"U\" if word.lower().count(i)==1 else \"D\" for i in word.lower()])\n",
    "\n",
    "print(duplicate_encode('Mountain'))\n",
    "print(duplicate_encodex('Mountain'))\n",
    "\n",
    "## Another way\n",
    "from collections import Counter\n",
    "def duplicate_encode(word):\n",
    "    word = word.lower()\n",
    "    counter = Counter(word)\n",
    "    return ''.join(('(' if counter[i] == 1 else ')') for i in word)\n",
    "\n",
    "print(duplicate_encode('Mountain'))\n",
    "\n",
    "## Another way\n",
    "def duplicate_encode(word):\n",
    "    word = word.lower()\n",
    "    encoder = \"\"\n",
    "    for i in word:\n",
    "        if word.count(i) > 1:\n",
    "            encoder += \")\"\n",
    "        else:\n",
    "            encoder += \"(\"\n",
    "    return encoder\n",
    "\n",
    "print(duplicate_encode('Mountain'))\n",
    " \n"
   ]
  }
 ],
 "metadata": {
  "kernelspec": {
   "display_name": "Python 3.8.8 ('base')",
   "language": "python",
   "name": "python3"
  },
  "language_info": {
   "codemirror_mode": {
    "name": "ipython",
    "version": 3
   },
   "file_extension": ".py",
   "mimetype": "text/x-python",
   "name": "python",
   "nbconvert_exporter": "python",
   "pygments_lexer": "ipython3",
   "version": "3.8.8"
  },
  "orig_nbformat": 4,
  "vscode": {
   "interpreter": {
    "hash": "a6932bc458483f3a29ec9950cf6424a2de735a02e9ad154ae63ded39f0fad700"
   }
  }
 },
 "nbformat": 4,
 "nbformat_minor": 2
}
