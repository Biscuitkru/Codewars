{
 "cells": [
  {
   "cell_type": "markdown",
   "metadata": {},
   "source": [
    "# Codewars"
   ]
  },
  {
   "cell_type": "markdown",
   "metadata": {},
   "source": [
    "## 8 Kyu"
   ]
  },
  {
   "cell_type": "code",
   "execution_count": 8,
   "metadata": {},
   "outputs": [
    {
     "name": "stdout",
     "output_type": "stream",
     "text": [
      "yako\n",
      "yako\n"
     ]
    }
   ],
   "source": [
    "## Reverse the string passed into it\n",
    "# 'world'  =>  'dlrow'\n",
    "\n",
    "def solution(string):\n",
    "    return string[::-1]\n",
    "\n",
    "print(solution(\"okay\"))\n",
    "\n",
    "def solution2(string):\n",
    "    string = list(string)\n",
    "    string.reverse()\n",
    "    return ''.join(string)\n",
    "\n",
    "print(solution2(\"okay\"))"
   ]
  },
  {
   "cell_type": "code",
   "execution_count": null,
   "id": "7c793cd7",
   "metadata": {},
   "outputs": [
    {
     "name": "stdout",
     "output_type": "stream",
     "text": [
      "24567\n"
     ]
    }
   ],
   "source": [
    "## Reverse a given integer number\n",
    "\n",
    "n = 76542\n",
    "reverse_number = 0\n",
    "while n > 0:\n",
    "    r = n % 10 \n",
    "    ## %, Modulo operator gives the remainder of the operator Eg. 101 % 2 gives a remainder of 1\n",
    "    reverse_number = (reverse_number * 10) + r\n",
    "    n = n //10\n",
    "print(reverse_number)\n"
   ]
  },
  {
   "cell_type": "code",
   "execution_count": 9,
   "metadata": {},
   "outputs": [
    {
     "data": {
      "text/plain": [
       "12"
      ]
     },
     "execution_count": 9,
     "metadata": {},
     "output_type": "execute_result"
    }
   ],
   "source": [
    "## Return double the integer\n",
    "def doubleInteger(i):\n",
    "    return i * 2\n",
    "\n",
    "doubleInteger(6)"
   ]
  },
  {
   "cell_type": "code",
   "execution_count": 13,
   "metadata": {},
   "outputs": [
    {
     "name": "stdout",
     "output_type": "stream",
     "text": [
      "Hello, Mayhem how are you doing today?\n"
     ]
    }
   ],
   "source": [
    "def greet(name):\n",
    "    print(\"Hello,\",name,\"how are you doing today?\")\n",
    "    #Good Luck (like you need it)\n",
    "    pass\n",
    "## For a return statement\n",
    "greet(\"Mayhem\")\n",
    "\n",
    "def greet(name):\n",
    "    return ('Hello, '+ name + ' how are you doing today?')\n",
    "    #Good Luck (like you need it)\n",
    "    pass\n",
    "\n",
    "greet(\"Mayhem\")"
   ]
  },
  {
   "cell_type": "code",
   "execution_count": 10,
   "metadata": {},
   "outputs": [
    {
     "data": {
      "text/plain": [
       "22791"
      ]
     },
     "execution_count": 10,
     "metadata": {},
     "output_type": "execute_result"
    }
   ],
   "source": [
    "## Create a summation formula\n",
    "def summation(num):\n",
    "    pass # Code here\n",
    "    count = 0\n",
    "    for i in range(1,num+1):\n",
    "        count += i\n",
    "    return count\n",
    "\n",
    "summation(213)"
   ]
  },
  {
   "cell_type": "code",
   "execution_count": 2,
   "metadata": {},
   "outputs": [
    {
     "data": {
      "text/plain": [
       "'Normal'"
      ]
     },
     "execution_count": 2,
     "metadata": {},
     "output_type": "execute_result"
    }
   ],
   "source": [
    "## Create a function that calculates BMI\n",
    "\n",
    "def bmi(weight, height):\n",
    "    #your code here\n",
    "    bmi = weight/height**2\n",
    "    if bmi > 30:\n",
    "        return \"Obese\"\n",
    "    elif bmi <= 18.5:\n",
    "        return \"Underweight\"\n",
    "    elif bmi <= 25:\n",
    "        return \"Normal\"\n",
    "    elif bmi <= 30:\n",
    "        return \"Overweight\"     \n",
    "\n",
    "bmi(63,1.7)   "
   ]
  },
  {
   "cell_type": "code",
   "execution_count": null,
   "metadata": {},
   "outputs": [],
   "source": []
  },
  {
   "cell_type": "markdown",
   "metadata": {},
   "source": [
    "## 7 Kyu"
   ]
  },
  {
   "cell_type": "code",
   "execution_count": null,
   "metadata": {},
   "outputs": [],
   "source": [
    "## Square every digit\n"
   ]
  },
  {
   "cell_type": "code",
   "execution_count": null,
   "metadata": {},
   "outputs": [],
   "source": []
  },
  {
   "cell_type": "markdown",
   "metadata": {},
   "source": [
    "## 6 Kyu"
   ]
  },
  {
   "cell_type": "code",
   "execution_count": null,
   "id": "44f5534c",
   "metadata": {},
   "outputs": [
    {
     "data": {
      "text/plain": [
       "2"
      ]
     },
     "metadata": {},
     "output_type": "display_data"
    }
   ],
   "source": [
    "## Count the number of Duplicates where it returns a distinct count of characters and digits that occur more than once\n",
    "def duplicate_count(text):\n",
    "    # Your code goes here\n",
    "    text = text.lower()\n",
    "    duplicates = {i: text.count(i) for i in text}\n",
    "    # \n",
    "    duplicates = sorted(duplicates.values())\n",
    "    counter = 0\n",
    "    for i in duplicates:\n",
    "        if i > 1:\n",
    "            counter += 1\n",
    "    return counter\n",
    "\n",
    "duplicate_count(\"indivisibilities\")"
   ]
  },
  {
   "cell_type": "code",
   "execution_count": null,
   "id": "d843d1c2",
   "metadata": {},
   "outputs": [
    {
     "name": "stdout",
     "output_type": "stream",
     "text": [
      "((()((()\n",
      "UUUDUUUD\n",
      "((()((()\n",
      "((()((()\n"
     ]
    }
   ],
   "source": [
    "## Duplicate Encode \n",
    "## Return the statement nothing initially joined together by \"(\" if lowercase letter is unique and \")\" if lowercase letter \n",
    "## is a duplicate \n",
    "\n",
    "def duplicate_encode(word):\n",
    "    #your code here\n",
    "    return \"\".join([\"(\" if word.lower().count(i)==1 else \")\" for i in word.lower()])\n",
    "\n",
    "def duplicate_encodex(word):\n",
    "    #your code here\n",
    "    return \"\".join([\"U\" if word.lower().count(i)==1 else \"D\" for i in word.lower()])\n",
    "\n",
    "print(duplicate_encode('Mountain'))\n",
    "print(duplicate_encodex('Mountain'))\n",
    "\n",
    "## Another way\n",
    "from collections import Counter\n",
    "def duplicate_encode(word):\n",
    "    word = word.lower()\n",
    "    counter = Counter(word)\n",
    "    return ''.join(('(' if counter[i] == 1 else ')') for i in word)\n",
    "\n",
    "print(duplicate_encode('Mountain'))\n",
    "\n",
    "## Another way\n",
    "def duplicate_encode(word):\n",
    "    word = word.lower()\n",
    "    encoder = \"\"\n",
    "    for i in word:\n",
    "        if word.count(i) > 1:\n",
    "            encoder += \")\"\n",
    "        else:\n",
    "            encoder += \"(\"\n",
    "    return encoder\n",
    "\n",
    "print(duplicate_encode('Mountain'))\n",
    " \n"
   ]
  }
 ],
 "metadata": {
  "kernelspec": {
   "display_name": "Python 3.8.8 ('base')",
   "language": "python",
   "name": "python3"
  },
  "language_info": {
   "codemirror_mode": {
    "name": "ipython",
    "version": 3
   },
   "file_extension": ".py",
   "mimetype": "text/x-python",
   "name": "python",
   "nbconvert_exporter": "python",
   "pygments_lexer": "ipython3",
   "version": "3.8.8"
  },
  "orig_nbformat": 4,
  "vscode": {
   "interpreter": {
    "hash": "a6932bc458483f3a29ec9950cf6424a2de735a02e9ad154ae63ded39f0fad700"
   }
  }
 },
 "nbformat": 4,
 "nbformat_minor": 2
}
